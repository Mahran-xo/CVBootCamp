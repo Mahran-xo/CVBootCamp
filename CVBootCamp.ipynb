{
 "cells": [
  {
   "cell_type": "markdown",
   "metadata": {},
   "source": [
    "# Yolo Algorithm Implementation "
   ]
  },
  {
   "cell_type": "code",
   "execution_count": 1,
   "metadata": {},
   "outputs": [],
   "source": [
    "import cv2\n",
    "import numpy as np"
   ]
  },
  {
   "cell_type": "code",
   "execution_count": 2,
   "metadata": {},
   "outputs": [],
   "source": [
    "image = cv2.imread('car_image.jpg')"
   ]
  },
  {
   "cell_type": "code",
   "execution_count": 3,
   "metadata": {},
   "outputs": [
    {
     "name": "stdout",
     "output_type": "stream",
     "text": [
      "(450, 600, 3)\n"
     ]
    }
   ],
   "source": [
    "print(image.shape)"
   ]
  },
  {
   "cell_type": "code",
   "execution_count": 4,
   "metadata": {},
   "outputs": [],
   "source": [
    "original_width,original_height = image.shape[1],image.shape[0]"
   ]
  },
  {
   "cell_type": "code",
   "execution_count": 5,
   "metadata": {},
   "outputs": [],
   "source": [
    "#there are 80 or 90 possible output classes\n",
    "# 0 -> person\n",
    "# 2 -> car\n",
    "# 5 -> bus\n",
    "# 17 -> cat\n",
    "classes = ['car','person','bus','cat']"
   ]
  },
  {
   "cell_type": "code",
   "execution_count": 6,
   "metadata": {},
   "outputs": [],
   "source": [
    "neural_network = cv2.dnn.readNetFromDarknet('yolov3.cfg','yolov3.weights')\n",
    "#define whether we run algorithm with cpu or gpu\n",
    "#we will use cpu\n"
   ]
  },
  {
   "cell_type": "code",
   "execution_count": 7,
   "metadata": {},
   "outputs": [],
   "source": [
    "neural_network.setPreferableBackend(cv2.dnn.DNN_BACKEND_OPENCV)\n",
    "neural_network.setPreferableTarget(cv2.dnn.DNN_TARGET_CPU)"
   ]
  },
  {
   "cell_type": "code",
   "execution_count": 8,
   "metadata": {},
   "outputs": [
    {
     "name": "stdout",
     "output_type": "stream",
     "text": [
      "(1, 3, 320, 320)\n"
     ]
    }
   ],
   "source": [
    "#transform the image to a BLOB [0-1] (1/255 to normalize pixle intensities )\n",
    "#RGB-BGR , True will transform RGB to BGR\n",
    "blob = cv2.dnn.blobFromImage(image, 1/255 , (320,320), True, crop = False)\n",
    "print(blob.shape)"
   ]
  },
  {
   "cell_type": "code",
   "execution_count": 19,
   "metadata": {},
   "outputs": [
    {
     "name": "stdout",
     "output_type": "stream",
     "text": [
      "[200 227 254]\n"
     ]
    }
   ],
   "source": [
    "layerNames = neural_network.getLayerNames()\n",
    "#YOLO network has 3 output layers - note: these indexes are starting with 1 so we will have to decrement them by 1\n",
    "print(neural_network.getUnconnectedOutLayers())"
   ]
  },
  {
   "cell_type": "code",
   "execution_count": 20,
   "metadata": {},
   "outputs": [
    {
     "name": "stdout",
     "output_type": "stream",
     "text": [
      "['yolo_82', 'yolo_94', 'yolo_106']\n"
     ]
    }
   ],
   "source": [
    "output_names = [layerNames[index-1] for index in neural_network.getUnconnectedOutLayers()]\n",
    "print(output_names)"
   ]
  },
  {
   "cell_type": "code",
   "execution_count": null,
   "metadata": {},
   "outputs": [],
   "source": []
  }
 ],
 "metadata": {
  "kernelspec": {
   "display_name": "Python 3.10.5 64-bit",
   "language": "python",
   "name": "python3"
  },
  "language_info": {
   "codemirror_mode": {
    "name": "ipython",
    "version": 3
   },
   "file_extension": ".py",
   "mimetype": "text/x-python",
   "name": "python",
   "nbconvert_exporter": "python",
   "pygments_lexer": "ipython3",
   "version": "3.10.5"
  },
  "orig_nbformat": 4,
  "vscode": {
   "interpreter": {
    "hash": "4e4cfeeab6894fbfa9bbcb04236c588083aa92c5a4c9609034080a9e0d3c38a3"
   }
  }
 },
 "nbformat": 4,
 "nbformat_minor": 2
}
